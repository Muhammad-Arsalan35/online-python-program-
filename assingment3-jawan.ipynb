{
 "cells": [
  {
   "cell_type": "code",
   "execution_count": 6,
   "id": "e0ad4321",
   "metadata": {},
   "outputs": [
    {
     "name": "stdout",
     "output_type": "stream",
     "text": [
      "Twinkle, twinkle, little star,\n",
      "\t How I wonder what you are! \n",
      "\t\t How I wonder what you are, \n",
      "\t\t Like a diamond in the sky. \n",
      "Twinkle, twinkle, little star, \n",
      "\t How I wonder what you are\n"
     ]
    }
   ],
   "source": [
    "########################################## muhammad arsalan  afzal #########################################################\n",
    "#question  no  01 \n",
    "#1. Write a Python program to print the following string in a specific format (see the output).\n",
    "\n",
    "\n",
    "print(\"Twinkle, twinkle, little star,\\n\\t How I wonder what you are! \\n\\t\\t How I wonder what you are, \\n\\t\\t Like a diamond in the sky. \\nTwinkle, twinkle, little star, \\n\\t How I wonder what you are\")\n"
   ]
  },
  {
   "cell_type": "code",
   "execution_count": 7,
   "id": "26ba8b1d",
   "metadata": {},
   "outputs": [
    {
     "name": "stdout",
     "output_type": "stream",
     "text": [
      "Python version\n",
      "3.8.8 (default, Apr 13 2021, 15:08:03) [MSC v.1916 64 bit (AMD64)]\n",
      "Version info.\n",
      "sys.version_info(major=3, minor=8, micro=8, releaselevel='final', serial=0)\n"
     ]
    }
   ],
   "source": [
    "#question 02\n",
    "#2. Write a Python program to get the Python version you are using\n",
    "\n",
    "import sys\n",
    "print(\"Python version\")\n",
    "print (sys.version)\n",
    "print(\"Version info.\")\n",
    "print (sys.version_info)\n"
   ]
  },
  {
   "cell_type": "code",
   "execution_count": 3,
   "id": "63a232fe",
   "metadata": {},
   "outputs": [
    {
     "name": "stdout",
     "output_type": "stream",
     "text": [
      "now = 2021-10-22 01:00:18.639802\n",
      "date and time = 22/10/2021 01:00:18\n"
     ]
    }
   ],
   "source": [
    "# question  no 03 \n",
    "#Write a Python program to display the current date and time.\n",
    "from datetime import datetime\n",
    "\n",
    "# datetime object containing current date and time\n",
    "now = datetime.now()\n",
    " \n",
    "print(\"now =\", now)\n",
    "\n",
    "# dd/mm/YY H:M:S\n",
    "dt_string = now.strftime(\"%d/%m/%Y %H:%M:%S\")\n",
    "print(\"date and time =\", dt_string)\t\n",
    "\n"
   ]
  },
  {
   "cell_type": "code",
   "execution_count": 4,
   "id": "626abf44",
   "metadata": {},
   "outputs": [
    {
     "name": "stdout",
     "output_type": "stream",
     "text": [
      "Input the radius of the circle : 3\n",
      "The area of the circle with radius 3.0 is: 28.274333882308138\n"
     ]
    }
   ],
   "source": [
    "# question no  4 \n",
    "#Write a Python program which accepts the radius of a circle from the user and compute the area.\n",
    "\n",
    "from math import pi\n",
    "r = float(input (\"Input the radius of the circle : \"))\n",
    "print (\"The area of the circle with radius \" + str(r) + \" is: \" + str(pi * r**2))"
   ]
  },
  {
   "cell_type": "code",
   "execution_count": 6,
   "id": "7b08e125",
   "metadata": {},
   "outputs": [
    {
     "name": "stdout",
     "output_type": "stream",
     "text": [
      "enter your  first name  :MUHAMMAD ARSALAN \n",
      "enter  your  lastname :AFZAL\n",
      "LAZFA   NALASRA DAMMAHUM\n"
     ]
    }
   ],
   "source": [
    "# question  no  05 \n",
    "# Write a Python program which accepts the user's first and last name and print them in\n",
    "#reverse order with a space between them.\n",
    "\n",
    "firstname = input(\"enter your  first name  :\")\n",
    "lastname = input (\"enter  your  lastname :\")\n",
    "print (lastname[::-1] + \"  \" + firstname[::-1] )"
   ]
  },
  {
   "cell_type": "code",
   "execution_count": 9,
   "id": "623b525b",
   "metadata": {},
   "outputs": [
    {
     "name": "stdout",
     "output_type": "stream",
     "text": [
      "enter  your  fisrt  number : 10.25\n",
      "enter  your  second  number  : 26.95\n",
      "Total is  : 37.2\n"
     ]
    }
   ],
   "source": [
    "#question  no 06#\n",
    "#Write a program which takes 5 inputs from user for different subject’s marks, total it\n",
    "#and generate mark sheet using grades ?\n",
    "\n",
    "first = float(input(\"enter  your  fisrt  number : \"))\n",
    "second = float(input(\"enter  your  second  number  : \"))\n",
    "result = first + second\n",
    "print(\"Total is  :\",result)"
   ]
  },
  {
   "cell_type": "code",
   "execution_count": 24,
   "id": "071b118f",
   "metadata": {},
   "outputs": [
    {
     "name": "stdout",
     "output_type": "stream",
     "text": [
      "enter your  python  number :75\n",
      "enter your  java numer :  95\n",
      "enter your  csharp numer :  42\n",
      "enter your  php numer :  33\n",
      "enter your  cplus numer :  85\n",
      "your grade is : B\n"
     ]
    }
   ],
   "source": [
    "#Write a program which takes 5 inputs from user for different subject’s marks, total it\n",
    "#and generate mark sheet using grades ?\n",
    "python = int(input(\"enter your  python  number :\"))\n",
    "java  = int(input(\"enter your  java numer :  \"))\n",
    "csharp = int(input(\"enter your  csharp numer :  \"))\n",
    "php = int(input(\"enter your  php numer :  \"))\n",
    "Cplus = int(input(\"enter your  cplus numer :  \"))\n",
    "\n",
    "\n",
    "result = (python+java+csharp+php+Cplus) / 5 \n",
    "\n",
    "if(result >= 80):\n",
    "    print(\" your grade is : A+ \")\n",
    "elif(result >= 70 and result < 80):\n",
    "    print(\"your grade is : A\")\n",
    "elif(result >=60 and result < 70):\n",
    "    print(\"your grade is : B\")\n",
    "elif(result >= 50 and result < 60):\n",
    "    print(\"your grade is  : C\")\n",
    "elif(result >= 40 and result < 50):\n",
    "    print(\"your  grade is : D \")\n",
    "else:\n",
    "    print(\"Need  to more   hardwrokig \")"
   ]
  },
  {
   "cell_type": "code",
   "execution_count": 32,
   "id": "9359501b",
   "metadata": {},
   "outputs": [
    {
     "name": "stdout",
     "output_type": "stream",
     "text": [
      "enter  your  number  number : 2\n",
      "number is even\n"
     ]
    }
   ],
   "source": [
    "#Write a program which take input from user and identify that the given number is even or odd?\n",
    "\n",
    "number = int(input(\"enter  your  number  number : \"))\n",
    "if(number % 2 == 0 ):\n",
    "    print(\"number is even\")\n",
    "else:\n",
    "    print(\"number is odd\")"
   ]
  },
  {
   "cell_type": "code",
   "execution_count": 33,
   "id": "9848e88d",
   "metadata": {},
   "outputs": [
    {
     "name": "stdout",
     "output_type": "stream",
     "text": [
      "Number of items in the list =  5\n"
     ]
    }
   ],
   "source": [
    "#Write a program which print the length of the list?\n",
    "ListName = [\"Hello\", \"Edureka\", 1, 2, 3]\n",
    "print (\"Number of items in the list = \", len(ListName))"
   ]
  },
  {
   "cell_type": "code",
   "execution_count": 34,
   "id": "79f5d058",
   "metadata": {},
   "outputs": [
    {
     "name": "stdout",
     "output_type": "stream",
     "text": [
      "How many numbers: 4\n",
      "Enter number 5\n",
      "Enter number 5\n",
      "Enter number 8\n",
      "Enter number 9\n",
      "Sum of elements in given list is : 27\n"
     ]
    }
   ],
   "source": [
    "#10.Write a Python program to sum all the numeric items in a list?\n",
    "lst = []\n",
    "num = int(input('How many numbers: '))\n",
    "for n in range(num):\n",
    "    numbers = int(input('Enter number '))\n",
    "    lst.append(numbers)\n",
    "print(\"Sum of elements in given list is :\", sum(lst))        "
   ]
  },
  {
   "cell_type": "code",
   "execution_count": 2,
   "id": "d3df5b67",
   "metadata": {},
   "outputs": [
    {
     "name": "stdout",
     "output_type": "stream",
     "text": [
      "Largest element is: 17\n"
     ]
    }
   ],
   "source": [
    "#11.Write a Python program to get the largest number from a numeric list.\n",
    "lst = [3,5,17,2,4]\n",
    "print(\"Largest element is:\", max(lst))"
   ]
  },
  {
   "cell_type": "code",
   "execution_count": 6,
   "id": "26643f29",
   "metadata": {},
   "outputs": [
    {
     "name": "stdout",
     "output_type": "stream",
     "text": [
      "less than  5 in list : 1\n",
      "less than  5 in list : 1\n",
      "less than  5 in list : 2\n",
      "less than  5 in list : 3\n"
     ]
    }
   ],
   "source": [
    "#question 12 \n",
    "#Write a program that prints out all the elements of the list that are less than 5.\n",
    "a = [1, 1, 2, 3, 5, 8, 13, 21, 34, 55, 89]\n",
    "\n",
    "for i in a:\n",
    "\n",
    "    if i < 5:\n",
    "\n",
    "        print(\"less than  5 in list :\",i)"
   ]
  },
  {
   "cell_type": "code",
   "execution_count": null,
   "id": "fcdc71af",
   "metadata": {},
   "outputs": [],
   "source": []
  }
 ],
 "metadata": {
  "kernelspec": {
   "display_name": "Python 3",
   "language": "python",
   "name": "python3"
  },
  "language_info": {
   "codemirror_mode": {
    "name": "ipython",
    "version": 3
   },
   "file_extension": ".py",
   "mimetype": "text/x-python",
   "name": "python",
   "nbconvert_exporter": "python",
   "pygments_lexer": "ipython3",
   "version": "3.8.8"
  }
 },
 "nbformat": 4,
 "nbformat_minor": 5
}
